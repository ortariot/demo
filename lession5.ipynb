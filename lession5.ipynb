{
  "cells": [
    {
      "cell_type": "markdown",
      "metadata": {
        "id": "inA2Q8YwksRn"
      },
      "source": [
        "# Вебинары по теме \"Классы и объекты (ООП)\""
      ]
    },
    {
      "cell_type": "markdown",
      "metadata": {
        "id": "pbcH57-MksRr",
        "tags": []
      },
      "source": [
        "## Проверка связи"
      ]
    },
    {
      "cell_type": "markdown",
      "metadata": {
        "id": "aq_cAJwVksRs"
      },
      "source": [
        "**Поставьте в чат:**<br>\n",
        "\\+ — если меня видно и слышно<br>\n",
        "**–** — если нет\n",
        "\n",
        "**Если у вас нет звука:**\n",
        "\n",
        "* убедитесь, что на вашем устройстве и на колонках включён звук\n",
        "\n",
        "* обновите страницу вебинара или закройте её и заново присоединитесь к вебинару\n",
        "\n",
        "* откройте вебинар в другом браузере\n",
        "\n",
        "* перезагрузите устройство и попытайтесь зайти заново"
      ]
    },
    {
      "cell_type": "markdown",
      "metadata": {
        "id": "lGmyF92MksRs"
      },
      "source": [
        "## О спикере"
      ]
    },
    {
      "cell_type": "markdown",
      "metadata": {
        "id": "IQ5tPuttksRt",
        "tags": []
      },
      "source": [
        "**Владимир Хомутов**\n",
        "- Ведущий бэкенд-разработчик на Python в Ростелеком Информационные Технологии"
      ]
    },
    {
      "cell_type": "markdown",
      "metadata": {
        "id": "4iLe8Jvsgwlb"
      },
      "source": [
        "## Правила участия"
      ]
    },
    {
      "cell_type": "markdown",
      "metadata": {
        "id": "Eis6AQFSg0C9"
      },
      "source": [
        "1. Продолжительность вебинара — 80 минут\n",
        "2. Запустите Jupyter Notebook / Google Colab / IDE для выполнения практических заданий вебинара. Во время демонстрации работы повторяйте за спикером: это помогает лучше понять материал\n",
        "3. Создайте копию этого блокнота, чтобы фиксировать вопросы и важную информацию во время занятия\n",
        "4. Вы можете писать вопросы в чате во время вебинара или задавать их вслух в блоке «Ваши вопросы»\n",
        "5. Запись вебинара будет доступна в личном кабинете"
      ]
    },
    {
      "cell_type": "markdown",
      "metadata": {
        "id": "JFQrFju9ksRu"
      },
      "source": [
        "## Цель занятия"
      ]
    },
    {
      "cell_type": "markdown",
      "metadata": {
        "id": "p8Pbfc0eksRv",
        "tags": []
      },
      "source": [
        "На практике научиться пользоваться ООП и ответить на следующие вопросы:\n",
        "\n",
        "\n",
        "1.   Из чего состоит ООП\n",
        "2.   Какие плюсы даёт ООП\n",
        "3.   Что такое инкапсуляция, полиморфизм, наследование\n",
        "4.   Что такое магические методы\n",
        "5.   Когда использовать ООП, а когда обычные функции\n",
        "6.   Нужно ли учить ООП\n",
        "\n"
      ]
    },
    {
      "cell_type": "markdown",
      "metadata": {
        "id": "nUBc6G7rksRv"
      },
      "source": [
        "[1. Что такое класс. Как объявить класс и создать экземпляр класса.](#1.Что-такое)<br>\n",
        "[2. Магические методы](#2.-Магические)<br>\n",
        "[3. Инкапсуляция](#3.-Инкапсуляция)<br>\n",
        "[4. Наследование](#4.-Наследование)<br>\n",
        "[5. Полиморфизм](#5.-Полиморфизм)<br>\n",
        "[6. Задача 1](#6.-Задача-1)<br>\n",
        "[7. Задача 2](#7.-Задача-2)<br>\n",
        "[8. Задача 3](#8.-Задача-3)<br>"
      ]
    },
    {
      "cell_type": "markdown",
      "metadata": {
        "id": "y0L-W3AYksRv"
      },
      "source": [
        "## План занятия"
      ]
    },
    {
      "cell_type": "markdown",
      "metadata": {
        "id": "CxE3zVrXksRv"
      },
      "source": [
        "## Ваши вопросы"
      ]
    },
    {
      "cell_type": "markdown",
      "metadata": {
        "id": "yvWq9j9zksRv"
      },
      "source": [
        "## 1. Что такое класс. Как объявить класс и создать экземпляр класса"
      ]
    },
    {
      "cell_type": "markdown",
      "metadata": {
        "id": "seyz8O4WksRx"
      },
      "source": [
        "### Основные понятия\n",
        "- Класс — тип, описывающий устройство объектов\n",
        "- Объект — экземпляр, созданный на основе класса\n",
        "- Атрибут — поле, хранящее значение. Содержит свойства объекта\n",
        "- Метод — функция, описанная внутри класса. Напрямую относится к классу\n",
        "\n"
      ]
    },
    {
      "cell_type": "code",
      "execution_count": null,
      "metadata": {
        "colab": {
          "base_uri": "https://localhost:8080/"
        },
        "id": "1hme9E7c1uVy",
        "outputId": "4fadac3a-d3cf-4b3b-8973-0c11d47c4a92"
      },
      "outputs": [
        {
          "ename": "TypeError",
          "evalue": "Animal.eat() takes 0 positional arguments but 1 was given",
          "output_type": "error",
          "traceback": [
            "\u001b[31m---------------------------------------------------------------------------\u001b[39m",
            "\u001b[31mTypeError\u001b[39m                                 Traceback (most recent call last)",
            "\u001b[36mCell\u001b[39m\u001b[36m \u001b[39m\u001b[32mIn[2]\u001b[39m\u001b[32m, line 13\u001b[39m\n\u001b[32m      9\u001b[39m         \u001b[38;5;28mprint\u001b[39m(\u001b[33m\"\u001b[39m\u001b[33mЯ сплю\u001b[39m\u001b[33m\"\u001b[39m)\n\u001b[32m     12\u001b[39m cat = Animal() \u001b[38;5;66;03m# Объект, или, как ещё говорят, экземпляр класса\u001b[39;00m\n\u001b[32m---> \u001b[39m\u001b[32m13\u001b[39m \u001b[43mcat\u001b[49m\u001b[43m.\u001b[49m\u001b[43meat\u001b[49m\u001b[43m(\u001b[49m\u001b[43m)\u001b[49m \u001b[38;5;66;03m# Вызов метода класса\u001b[39;00m\n\u001b[32m     14\u001b[39m cat.sleep() \u001b[38;5;66;03m# Вызов метода класса\u001b[39;00m\n\u001b[32m     15\u001b[39m \u001b[38;5;28mprint\u001b[39m(\u001b[33m\"\u001b[39m\u001b[33mВозраст =\u001b[39m\u001b[33m\"\u001b[39m, cat.age, \u001b[33m\"\u001b[39m\u001b[33mЦвет =\u001b[39m\u001b[33m\"\u001b[39m, cat.color) \u001b[38;5;66;03m# Параметры класса\u001b[39;00m\n",
            "\u001b[31mTypeError\u001b[39m: Animal.eat() takes 0 positional arguments but 1 was given"
          ]
        }
      ],
      "source": [
        "class Animal: # Класс\n",
        "    age = 0\n",
        "    color = \"black\"\n",
        "\n",
        "    def eat(self): # Первый метод класса\n",
        "        print(\"Я ем\")\n",
        "\n",
        "    def sleep(self): # Второй метод класса\n",
        "        print(\"Я сплю\")\n",
        "        Animal.eat()\n",
        "        \n",
        "\n",
        "\n",
        "cat = Animal() # Объект, или, как ещё говорят, экземпляр класса\n",
        "cat.eat() # Вызов метода класса\n",
        "cat.sleep() # Вызов метода класса\n",
        "print(\"Возраст =\", cat.age, \"Цвет =\", cat.color) # Параметры класса\n",
        "cat.age = 2\n",
        "cat.color = \"white\"\n",
        "print(\"Возраст после изменения параметра =\", cat.age,\n",
        "      \"Цвет после изменения параметра =\", cat.color) # Параметры класса"
      ]
    },
    {
      "cell_type": "markdown",
      "metadata": {
        "id": "RiNMa1w2UCgR"
      },
      "source": [
        "## Ваши вопросы"
      ]
    },
    {
      "cell_type": "markdown",
      "metadata": {
        "id": "8Y1Y6JGYksRy"
      },
      "source": [
        "## 2. Магические методы"
      ]
    },
    {
      "cell_type": "code",
      "execution_count": null,
      "metadata": {
        "colab": {
          "base_uri": "https://localhost:8080/"
        },
        "id": "09J_4pUPksRy",
        "outputId": "519bf6f9-4243-4c7f-8f81-4ad76a5178a1"
      },
      "outputs": [
        {
          "name": "stdout",
          "output_type": "stream",
          "text": [
            "Возраст кошки до дня рождения 1\n",
            "Возраст кошки после дня рождения 2\n",
            "This is Animal with age = 1 and color = white\n",
            "Hi!\n"
          ]
        }
      ],
      "source": [
        "class Animal:\n",
        "    def __init__(self, color, age): # Конструктор класса\n",
        "      self.age = age\n",
        "      self.color = color\n",
        "\n",
        "    def __repr__(self):\n",
        "      return f\"This is Animal with age = {self.age} and color = {self.color}\"\n",
        "\n",
        "    def __str__(self):\n",
        "      return \"Hi!\"\n",
        "\n",
        "    def eat(self):\n",
        "        print(\"Я могу есть\")\n",
        "\n",
        "    def sleep(self):\n",
        "        print(\"Я могу спать\")\n",
        "\n",
        "    def animal_birthday(self):\n",
        "      self.age += 1\n",
        "\n",
        "cat = Animal(color=\"white\", age=1) # Объект, или, как ещё говорят, экземпляр класса\n",
        "print(\"Возраст кошки до дня рождения\", cat.age)\n",
        "cat.animal_birthday()\n",
        "print(\"Возраст кошки после дня рождения\", cat.age)\n",
        "print(repr(Animal(color=\"white\", age=1)))\n",
        "print(str(Animal(color=\"white\", age=1)))"
      ]
    },
    {
      "cell_type": "code",
      "execution_count": null,
      "metadata": {
        "id": "GSYmWfcvJDK5"
      },
      "outputs": [],
      "source": [
        "class Test:\n",
        "    def __init__(self): # Конструктор класса\n",
        "        pass\n",
        "\n",
        "    def __eq__(self, other): # Сравнение\n",
        "      pass\n",
        "\n",
        "    def __lt__(self, other): # Позволяет реализовать проверку на «меньше, чем»\n",
        "      pass\n",
        "\n",
        "    def __le__(self, other): # Позволяет реализовать проверку на «меньше или равно» для экземпляров пользовательских типов\n",
        "      pass"
      ]
    },
    {
      "cell_type": "markdown",
      "metadata": {
        "id": "GBKAbsinUEPR"
      },
      "source": [
        "\n",
        "## Ваши вопросы"
      ]
    },
    {
      "cell_type": "markdown",
      "metadata": {
        "id": "Xn2nmnwWksR0"
      },
      "source": [
        "## 3. Инкапсуляция"
      ]
    },
    {
      "cell_type": "code",
      "execution_count": null,
      "metadata": {
        "colab": {
          "base_uri": "https://localhost:8080/"
        },
        "id": "n6PrMENYksR1",
        "outputId": "5475c516-f967-43ac-a172-0cf4d178a11f"
      },
      "outputs": [
        {
          "name": "stdout",
          "output_type": "stream",
          "text": [
            "{'_Wallet__name': 'Gleb', '_Wallet__amount': 500, 'email': 'test@test.ru'}\n",
            "Gleb\n",
            "500 Gleb\n",
            "Gleb\n",
            "500 Gleb\n"
          ]
        }
      ],
      "source": [
        "class Wallet:\n",
        "\n",
        "    def __init__(self, name, amount, email):\n",
        "        self.__name = name\n",
        "        self.__amount = amount\n",
        "        self.email = email\n",
        "\n",
        "    def show_my_money(self):\n",
        "      print(self.__amount, self.__name)\n",
        "\n",
        "\n",
        "gleb_walley = Wallet(name=\"Gleb\", amount=500, email=\"test@test.ru\")\n",
        "## print(gleb_walley.__name) -> error -> protected\n",
        "\n",
        "gleb_walley.show_my_money()\n",
        "\n",
        "\n",
        "class UnsafeWallet:\n",
        "\n",
        "    def __init__(self, name, amount, email):\n",
        "        self._name = name\n",
        "        self._amount = amount\n",
        "        self.email = email\n",
        "\n",
        "    def show_my_money(self):\n",
        "      print(self._amount, self._name)\n",
        "\n",
        "gleb_unsafe_walley = UnsafeWallet(name=\"Gleb\", amount=500, email=\"test@test.ru\")\n",
        "print(gleb_unsafe_walley._name) # Ошибки нет -> private\n",
        "gleb_unsafe_walley.show_my_money()\n"
      ]
    },
    {
      "cell_type": "markdown",
      "metadata": {
        "id": "JqOkyEfoUFQG"
      },
      "source": [
        "## Ваши вопросы"
      ]
    },
    {
      "cell_type": "markdown",
      "metadata": {
        "id": "MUUd7dq_ksR7"
      },
      "source": [
        "## 4. Наследование"
      ]
    },
    {
      "cell_type": "code",
      "execution_count": null,
      "metadata": {
        "colab": {
          "base_uri": "https://localhost:8080/"
        },
        "id": "FulnAj5iksR8",
        "outputId": "1b384326-20a4-463e-9c19-2418a2ee4091"
      },
      "outputs": [
        {
          "name": "stdout",
          "output_type": "stream",
          "text": [
            "<__main__.Airplane object at 0x7ab2da3e5e10>\n",
            "<__main__.Submarine object at 0x7ab2da3e4d00>\n"
          ]
        }
      ],
      "source": [
        "class Vehicle:\n",
        "    def __init__(self, make, model, year, price):\n",
        "        self.make = make\n",
        "        self.model = model\n",
        "        self.year = year\n",
        "        self.price = price\n",
        "\n",
        "    def display_info(self):\n",
        "        print(f\"Марка: {self.make}\"\n",
        "        f\"\\nМодель: {self.model}\"\n",
        "        f\"\\nГод выпуска: {self.year}\"\n",
        "        f\"\\nСтоимость: {self.price} руб\")\n",
        "\n",
        "class Airplane(Vehicle):\n",
        "    def __init__(self, make, model, year, price, capacity):\n",
        "        super().__init__(make, model, year, price) # Заберём себе реализацию из Vehicle\n",
        "        self.capacity = capacity\n",
        "\n",
        "class Submarine(Vehicle):\n",
        "    def __init__(self, make, model, year, price, max_depth):\n",
        "        super().__init__(make, model, year, price) # Заберём себе реализацию из Vehicle\n",
        "        self.max_depth = max_depth\n",
        "\n",
        "submarine_obj = Submarine(make=\"Bronco\", model=\"CB35053\", year=1993, price=\"more than you can imagine\", max_depth=4000)\n",
        "airplane_obj = Airplane(make=\"СУ\", model=\"80\", year=1990, price=\"55000000$\", capacity=30)\n",
        "print(airplane_obj)\n",
        "print(submarine_obj)"
      ]
    },
    {
      "cell_type": "markdown",
      "metadata": {
        "id": "wCSvPw-VUFzG"
      },
      "source": [
        "## Ваши вопросы"
      ]
    },
    {
      "cell_type": "markdown",
      "metadata": {
        "id": "XCaX0OhTksR8"
      },
      "source": [
        "## 5. Полиморфизм"
      ]
    },
    {
      "cell_type": "code",
      "execution_count": null,
      "metadata": {
        "colab": {
          "base_uri": "https://localhost:8080/"
        },
        "id": "xdXnoSFlksR8",
        "outputId": "74997a54-17de-4bf1-ed5e-61ab2968388e",
        "tags": []
      },
      "outputs": [
        {
          "name": "stdout",
          "output_type": "stream",
          "text": [
            "4\n",
            "6.0\n"
          ]
        }
      ],
      "source": [
        "class Shape:\n",
        "    \"\"\"Родительский класс. Внутри него будет метод, который другие классы адаптируют под себя\"\"\"\n",
        "\n",
        "    def calculate_area(self):\n",
        "\n",
        "        \"\"\"Пустой метод, предназначенный только для переопределения (полиморфизма) в других классах\"\"\"\n",
        "\n",
        "        pass\n",
        "\n",
        "class Square(Shape):\n",
        "    \"\"\"Это дочерний класс класса Shape. Он унаследован от класса Square и теперь имеет возможность переопределить метод calculate_area\"\"\"\n",
        "\n",
        "    length = 2\n",
        "\n",
        "    def calculate_area(self):\n",
        "        \"\"\"Этот метод переопределяет Shape.calculate_area().\n",
        "        При использовании относительно экземпляра класса Square -> вычислит площадь квадрата\"\"\"\n",
        "\n",
        "\n",
        "        return self.length * 2\n",
        "\n",
        "class RightTriangle(Shape):\n",
        "    \"\"\"Это также подкласс класса Shape, и он представляет собой треугольник.\"\"\"\n",
        "    length = 4\n",
        "    height = 3\n",
        "\n",
        "    def calculate_area(self):\n",
        "        \"\"\"Этот метод также переопределяет Shape.calculate_area()\n",
        "         При использовании относительно экземпляра класса RightTriangle -> вычислит площадь прямоугольного треугольника\"\"\"\n",
        "\n",
        "        return 0.5 * self.length * self.height\n",
        "\n",
        "\n",
        "\n",
        "shape_obj = Shape()\n",
        "square_obj = Square()\n",
        "right_triangle_obj = RightTriangle()\n",
        "\n",
        "\n",
        "print(square_obj.calculate_area())\n",
        "print(right_triangle_obj.calculate_area())"
      ]
    },
    {
      "cell_type": "code",
      "execution_count": null,
      "metadata": {
        "id": "nZypioL63PLL"
      },
      "outputs": [],
      "source": [
        "from datetime import datetime\n",
        "import pytz\n",
        "\n",
        "WHITE = \"\\033[00m\"\n",
        "RED = \"\\033[1;31m\"\n",
        "GREEN = \"\\033[0;92m\"\n",
        "\n",
        "class Account:\n",
        "    def __init__(self, name, balance):\n",
        "        self.name = name\n",
        "        self.balance = balance\n",
        "        self.history = []\n",
        "\n",
        "    @staticmethod\n",
        "    def _get_local_time():\n",
        "        return pytz.utc.localize(datetime.now())\n",
        "\n",
        "    def deposit(self, amount):\n",
        "        self.balance += amount\n",
        "        self.show_balance()\n",
        "        self.history.append([amount, self._get_local_time()])\n",
        "\n",
        "    def withdraw(self, amount):\n",
        "        if self.balance > amount:\n",
        "            self.balance -= amount\n",
        "            print(f\"Ваш баланс был уменьшен на {amount}.\")\n",
        "            self.show_balance()\n",
        "            self.history.append([-amount, self._get_local_time()])\n",
        "        else:\n",
        "            print(\"Недостаточно денег\")\n",
        "            self.show_balance()\n",
        "    def show_history(self):\n",
        "        print(\"История операций:\")\n",
        "        for amount, date in self.history:\n",
        "            if amount > 0:\n",
        "                transaction = 'deposited'\n",
        "                color = GREEN\n",
        "            else:\n",
        "                transaction = 'withdrawn'\n",
        "                color = RED\n",
        "            print(f\"{color}{amount}{WHITE} {transaction} at {date.astimezone()}\")\n",
        "\n",
        "    def show_balance(self):\n",
        "        print(f\"Ваш баланс: {self.balance}\")\n",
        "\n",
        "\n",
        "a = Account('gleb', 0)"
      ]
    },
    {
      "cell_type": "code",
      "execution_count": null,
      "metadata": {
        "id": "ytbpmu8Q3PLL"
      },
      "outputs": [],
      "source": [
        "from datetime import datetime\n",
        "import pytz\n",
        "\n",
        "WHITE = \"\\033[00m\"\n",
        "RED = \"\\033[1;31m\"\n",
        "GREEN = \"\\033[0;92m\"\n",
        "\n",
        "class Account:\n",
        "    def __init__(self, name, balance):\n",
        "        self.name = name\n",
        "        self.__balance = balance\n",
        "        self.history = []\n",
        "\n",
        "\n",
        "a = Account(\"a\", 100)"
      ]
    },
    {
      "cell_type": "markdown",
      "metadata": {
        "id": "VphqFyxL3PLL"
      },
      "source": [
        ">>> a.__balance = 100\n",
        ">>> a.__balance = 10000\n",
        ">>> a.__dict__\n",
        "{'name': 'a', '_Account__balance': 100, 'history': [], '__balance': 10000}\n",
        "При создании экземпляра __balance не существует. Он появляется только в момент,\n",
        "когда я пытаюсь повлиять на экземпляр. Поэтому всё, что ссылается внутри класса,\n",
        "ссылается на корректный _Account__balance (искажённое имя __balance)"
      ]
    },
    {
      "cell_type": "markdown",
      "metadata": {
        "id": "fHsqStZ53PLM"
      },
      "source": [
        "## Свойства @property, getter, setter"
      ]
    },
    {
      "cell_type": "code",
      "execution_count": null,
      "metadata": {
        "id": "dkMBC2p73PLM"
      },
      "outputs": [],
      "source": [
        "class Person:\n",
        "    def __init__(self, name):\n",
        "        self._name = name\n",
        "\n",
        "    def get_name(self):\n",
        "        print('from get_name()')\n",
        "        return self._name\n",
        "\n",
        "    def set_name(self, name):\n",
        "        print('from set_name()')\n",
        "        self._name = name\n",
        "\n",
        "    name = property(fget=get_name, fset=set_name)\n",
        "\n",
        "p = Person('Dima')\n",
        "\n",
        "print(p.name)\n",
        "p.name = 5"
      ]
    },
    {
      "cell_type": "code",
      "execution_count": null,
      "metadata": {
        "id": "EkDvTnJU3PLM"
      },
      "outputs": [],
      "source": [
        "class Person:\n",
        "    def __init__(self, name):\n",
        "        self._name = name\n",
        "\n",
        "    def get_name(self):\n",
        "        print('from get_name()')\n",
        "        return self._name\n",
        "\n",
        "    def set_name(self, name):\n",
        "        print('from set_name()')\n",
        "        self._name = name\n",
        "\n",
        "    name = property()\n",
        "    name = name.getter(get_name)\n",
        "    name = name.setter(set_name)\n",
        "\n",
        "p = Person('Dima')\n",
        "\n",
        "print(p.name)"
      ]
    },
    {
      "cell_type": "code",
      "execution_count": null,
      "metadata": {
        "id": "lADK7QB33PLM"
      },
      "outputs": [],
      "source": [
        "class Person:\n",
        "    def __init__(self, name):\n",
        "        self._name = name\n",
        "    @property\n",
        "    def name(self):\n",
        "        print('property')\n",
        "        return self._name\n",
        "\n",
        "    @name.setter\n",
        "    def name(self, name):\n",
        "        print('setter')\n",
        "        self._name = name\n",
        "\n",
        "p = Person('Dima')\n",
        "\n",
        "print(p.name)\n",
        "p.name = 'Vova'"
      ]
    },
    {
      "cell_type": "code",
      "execution_count": null,
      "metadata": {
        "id": "w2FR2vNV3PLM"
      },
      "outputs": [],
      "source": [
        "class Person:\n",
        "    def __init__(self, name):\n",
        "        self._name = name\n",
        "    @property\n",
        "    def name(self):\n",
        "        print('property')\n",
        "        return self._name\n",
        "\n",
        "\n",
        "p = Person('Dima')\n",
        "\n",
        "print(p.name)\n",
        "p.name = 'Vova'\n",
        "\n",
        "# AttributeError: property 'name' of 'Person' object has no setter"
      ]
    },
    {
      "cell_type": "code",
      "execution_count": null,
      "metadata": {
        "id": "0f4Yv7Yn3PLM"
      },
      "outputs": [],
      "source": [
        "class Person:\n",
        "    def __init__(self, name, surname):\n",
        "        self._name = name\n",
        "        self._surname = surname\n",
        "    @property\n",
        "    def full_name(self):\n",
        "        print('property')\n",
        "        return f'{self._name} {self._surname}'\n",
        "\n",
        "\n",
        "p = Person('Dima', 'Ivanov')\n",
        "\n",
        "print(p.full_name)"
      ]
    },
    {
      "cell_type": "code",
      "execution_count": null,
      "metadata": {
        "id": "UYDN24Qv3PLN"
      },
      "outputs": [],
      "source": [
        "class Person:\n",
        "    def __init__(self, name, surname):\n",
        "        self._name = name\n",
        "        self._surname = surname\n",
        "        self._full_name = None\n",
        "\n",
        "    @property\n",
        "    def name(self):\n",
        "        return self._name\n",
        "\n",
        "    @name.setter\n",
        "    def name(self, value):\n",
        "        self._name = value\n",
        "        self._full_name = None\n",
        "\n",
        "    @property\n",
        "    def surname(self):\n",
        "        return self._surname\n",
        "\n",
        "    @surname.setter\n",
        "    def surname(self, value):\n",
        "        self._surname = value\n",
        "        self._full_name = None\n",
        "\n",
        "\n",
        "    @property\n",
        "    def full_name(self):\n",
        "        if self._full_name is None:\n",
        "            print('Computing full name...')\n",
        "            self._full_name = f'{self._name} {self._surname}'\n",
        "        return self._full_name\n",
        "\n",
        "\n",
        "p = Person('Dima', 'Ivanov')\n",
        "\n",
        "print(p.full_name)  \n",
        "print(p.full_name)\n",
        "p.surname = 'Petrov'\n",
        "print(p.full_name)"
      ]
    },
    {
      "cell_type": "markdown",
      "metadata": {
        "id": "zNEwTyEA3PLN"
      },
      "source": [
        "## ООП в Python: множественное наследование, mro, миксины"
      ]
    },
    {
      "cell_type": "code",
      "execution_count": 12,
      "metadata": {
        "id": "WoQU6rdO3PLN"
      },
      "outputs": [
        {
          "name": "stdout",
          "output_type": "stream",
          "text": [
            "Hello, Student\n"
          ]
        }
      ],
      "source": [
        "class Person:\n",
        "    def hello(self):\n",
        "        print(\"Hello, Person\")\n",
        "\n",
        "class Student(Person):\n",
        "    def hello(self):\n",
        "        print(\"Hello, Student\")\n",
        "\n",
        "class Teacher(Person):\n",
        "    def hello(self):\n",
        "        print(\"Hello, Teacher\")\n",
        "\n",
        "class Someone(Student, Teacher):\n",
        "    pass\n",
        "\n",
        "\n",
        "a = Someone()\n",
        "\n",
        "a.hello() # Hello, Student -> Кто левее, тот и прав - mro()"
      ]
    },
    {
      "cell_type": "markdown",
      "metadata": {
        "id": "s-_59Ouu3PLN"
      },
      "source": [
        "Порядок при множественном наследовании имеет значение. Кто левее, тот и прав. Если поменять Student и Teacher местами, будет Hello, Teacher.\n",
        "a.__class__.mro()\n",
        "[<class '__main__.Someone'>, <class '__main__.Student'>,\n",
        " <class '__main__.Teacher'>, <class '__main__.Person'>, <class 'object'>]\n",
        "# Порядок поиска"
      ]
    },
    {
      "cell_type": "code",
      "execution_count": null,
      "metadata": {
        "id": "5HwPDrdX3PLS"
      },
      "outputs": [],
      "source": [
        "class FoodMixin:\n",
        "    food = None\n",
        "\n",
        "    def get_food(self):\n",
        "        if self.food is None:\n",
        "            raise ValueError(\"No food\")\n",
        "        print('i like', self.food)\n",
        "\n",
        "class Person:\n",
        "    def hello(self):\n",
        "        print(\"Hello, Person\")\n",
        "\n",
        "class Student(FoodMixin, Person):\n",
        "    food = 'Pizza'\n",
        "    def hello(self):\n",
        "        print(\"Hello, Student\")\n",
        "\n",
        "\n",
        "\n",
        "a = Student()\n",
        "\n",
        "a.hello()\n",
        "print(a.food)\n",
        "print(a.__class__.mro())"
      ]
    },
    {
      "cell_type": "markdown",
      "metadata": {
        "id": "0PdlVfIN3PLS"
      },
      "source": [
        "**Когда использовать миксины**\n",
        "\n",
        "- Когда нужно обеспечить класс дополнительной, опциональной, функциональностью\n",
        "- Когда нужно добавить небольшую фичу к большому количеству несвязанных родственными узами классов"
      ]
    },
    {
      "cell_type": "markdown",
      "metadata": {
        "id": "UTTrLH3N3PLS"
      },
      "source": [
        "## ООП в Python: полиморфизм, перегрузка операторов"
      ]
    },
    {
      "cell_type": "code",
      "execution_count": null,
      "metadata": {
        "id": "tMWTv5zN3PLS"
      },
      "outputs": [],
      "source": [
        "class Room:\n",
        "    def __init__(self, x, y):\n",
        "        self.x = x\n",
        "        self.y = y\n",
        "        self.area = self.x * self.y\n",
        "\n",
        "    def __add__(self, room_obj):\n",
        "        if isinstance(room_obj, Room):\n",
        "            return self.area + room_obj.area\n",
        "        raise TypeError('Wrong obj')\n",
        "\n",
        "\n",
        "    def __eq__(self, room_obj):\n",
        "        if isinstance(room_obj, Room):\n",
        "            return self.area == room_obj.area\n",
        "        raise TypeError('Wrong obj')\n",
        "\n",
        "r1 = Room(3,5)\n",
        "r2 = Room(4,6)\n",
        "\n",
        "print(r1.area)\n",
        "print(r2.area)\n",
        "\n",
        "print(r1 + r2)"
      ]
    },
    {
      "cell_type": "markdown",
      "metadata": {
        "id": "YYE3oQRs3PLS"
      },
      "source": [
        "## ООП в Python: хешируемые объекты и равенство"
      ]
    },
    {
      "cell_type": "markdown",
      "metadata": {
        "id": "QPxZx_6G3PLT"
      },
      "source": [
        "Механизм хеширования преобразует строку неопределённой длины в строку определённой длины.\n",
        "\n",
        "Идентификация объектов словаря идёт по хешу ключа. Именно поэтому ключом может быть только неизменяемый объект. Точнее, ключом в словаре может быть только хешируемый объект.\n",
        "\n",
        "Объект является хешируемым, если у него реализовано 2 дандер-метода: hash and eq.\n",
        "\n",
        "Дело в том, что идёт сравнение по хешу. Оба объекта являются равными, если у них одинаковый хеш и одинаковый адрес в памяти."
      ]
    },
    {
      "cell_type": "code",
      "execution_count": null,
      "metadata": {
        "id": "0Vc3P9Zf3PLT"
      },
      "outputs": [],
      "source": [
        "class Person:\n",
        "    def __init__(self, name):\n",
        "        self._name = name\n",
        "\n",
        "    @property\n",
        "    def name(self):\n",
        "        return self._name\n",
        "\n",
        "    def __hash__(self):\n",
        "        return hash(self._name)\n",
        "\n",
        "    def __eq__(self, value):\n",
        "        return isinstance(value, Person) and self.name == value.name\n",
        "\n",
        "\n",
        "p = Person('Ivan')\n",
        "\n",
        "p1 = Person('Ivan')\n",
        "\n",
        "d = {p: 1, p1: 2}\n",
        "d.get(p1)\n",
        "\n",
        "print(p == p1)"
      ]
    },
    {
      "cell_type": "markdown",
      "metadata": {
        "id": "QVsAHBnTi-5C"
      },
      "source": [
        "## Ваши вопросы"
      ]
    },
    {
      "cell_type": "markdown",
      "metadata": {
        "id": "TrHPMQYAolU_"
      },
      "source": [
        "## Задача 1"
      ]
    },
    {
      "cell_type": "code",
      "execution_count": null,
      "metadata": {
        "id": "LClWfbMso0bV"
      },
      "outputs": [],
      "source": [
        "## Создайте класс SparkleWater для определения типа газированной воды, принимающий 1 аргумент при инициализации - что мы добавим в газированную воду, чтобы получить свой уникальный напиток\n",
        "## В этом классе необходимо реализовать метод show_the_drink(), выводящий пользователю «Газировка с {arg}» при наличии добавки, а иначе должна отобразиться фраза: «Обычная газированная вода»\n",
        "\n",
        "class SparkleWater:\n",
        "  pass"
      ]
    },
    {
      "cell_type": "markdown",
      "metadata": {
        "id": "hq_otL_gozzL"
      },
      "source": [
        "## Ваши вопросы"
      ]
    },
    {
      "cell_type": "markdown",
      "metadata": {
        "id": "FUIiLsNdksSA"
      },
      "source": [
        "# Задача 2"
      ]
    },
    {
      "cell_type": "code",
      "execution_count": null,
      "metadata": {
        "id": "w4sX5VsJksSB"
      },
      "outputs": [],
      "source": [
        "## Построить треугольник из отрезков можно лишь при одном условии: сумма длин двух любых сторон всегда больше длины третьей стороны\n",
        "## Необходимо реализовать класс TriangleExist, принимающий длину отрезков, из которых состоит треугольник. При создании экземпляра нужно проверять, возможен ли такой треугольник\n",
        "## case 1: Да -> Треугольник возможен\n",
        "## case 2: Нет -> Треугольник построить не получится\n",
        "\n",
        "class TriangleExist:\n",
        "  pass"
      ]
    },
    {
      "cell_type": "markdown",
      "metadata": {
        "id": "C8Qgh477pJYI"
      },
      "source": [
        "## Ваши вопросы"
      ]
    },
    {
      "cell_type": "markdown",
      "metadata": {
        "id": "_KymG4THksSB"
      },
      "source": [
        "## Задача 3: со звёздочкой (сложная)"
      ]
    },
    {
      "cell_type": "code",
      "execution_count": null,
      "metadata": {
        "id": "KolRv1YDvJUl"
      },
      "outputs": [],
      "source": [
        "# Строки в Python сравниваются на основе значений символов\n",
        "# Т. е. если мы захотим выяснить, что больше, «Apple» или «Яблоко», то «Яблоко» окажется больше\n",
        "# А всё потому, что английская буква A имеет значение 65 (берётся из таблицы кодировки), а русская буква Я – 1 071 (это можно выяснить с помощью функции ord())\n",
        "# Реализуйте класс RealString так, чтобы можно было сравнивать между собой как объекты класса, так и обычные строки с экземплярами класса RealString\n",
        "# Все нужные магические методы мы прошли"
      ]
    },
    {
      "cell_type": "markdown",
      "metadata": {
        "id": "TZhhv34Spcy0"
      },
      "source": [
        "## Ваши вопросы"
      ]
    },
    {
      "cell_type": "markdown",
      "metadata": {
        "id": "1eLYuTBvjBV5"
      },
      "source": [
        "## Итоги занятия"
      ]
    },
    {
      "cell_type": "markdown",
      "metadata": {
        "id": "6pgR-SJYjVFP"
      },
      "source": [
        "*  Научились на практике пользоваться ООП\n",
        "*Узнали, из чего состоит ООП\n",
        "*Поняли, какие плюсы даёт ООП\n",
        "*Разобрались, что такое инкапсуляция, полиморфизм, наследование\n",
        "*Узнали, что такое магические методы\n",
        "*Поняли, когда использовать ООП, а когда обычные функции\n",
        "*Разобрались, нужно ли учить ООП\n",
        "\n",
        "\n",
        "\n"
      ]
    },
    {
      "cell_type": "markdown",
      "metadata": {
        "id": "C_w9yYuPkRfj"
      },
      "source": [
        "## Анонс следующего занятия"
      ]
    },
    {
      "cell_type": "markdown",
      "metadata": {
        "id": "se5ppL9DkSu2"
      },
      "source": [
        "Вебинар по теме 6 «Аннотации типов и валидация данных»"
      ]
    },
    {
      "cell_type": "markdown",
      "metadata": {
        "id": "EckzX-k5kdKC"
      },
      "source": [
        "## Ваши вопросы"
      ]
    }
  ],
  "metadata": {
    "colab": {
      "provenance": []
    },
    "kernelspec": {
      "display_name": "env",
      "language": "python",
      "name": "python3"
    },
    "language_info": {
      "codemirror_mode": {
        "name": "ipython",
        "version": 3
      },
      "file_extension": ".py",
      "mimetype": "text/x-python",
      "name": "python",
      "nbconvert_exporter": "python",
      "pygments_lexer": "ipython3",
      "version": "3.13.7"
    }
  },
  "nbformat": 4,
  "nbformat_minor": 0
}
