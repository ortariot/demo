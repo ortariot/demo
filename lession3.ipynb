{
  "cells": [
    {
      "cell_type": "markdown",
      "metadata": {
        "id": "pRgrEVA3mRMe"
      },
      "source": [
        "# Вебинар. Исключения и обработка ошибок"
      ]
    },
    {
      "cell_type": "markdown",
      "metadata": {
        "id": "nGuXr-KdmRMh"
      },
      "source": [
        "## Проверка связи"
      ]
    },
    {
      "cell_type": "markdown",
      "source": [
        "**Поставьте в чат:**<br>\n",
        "\\+ если меня видно и слышно<br>\n",
        "– если нет\n",
        "\n",
        "**Если у вас нет звука:**\n",
        "\n",
        "* убедитесь, что на вашем устройстве и в колонках включён звук\n",
        "\n",
        "* обновите страницу вебинара или закройте страницу и переподключитесь\n",
        "\n",
        "* откройте вебинар в другом браузере\n",
        "\n",
        "* перезагрузите ваше устройство и войдите снова"
      ],
      "metadata": {
        "id": "iJzAxALpufea"
      }
    },
    {
      "cell_type": "markdown",
      "metadata": {
        "id": "XbfYeyqhmRMh"
      },
      "source": [
        "## О преподавателе"
      ]
    },
    {
      "cell_type": "markdown",
      "metadata": {
        "id": "a-bPD5W8mRMi"
      },
      "source": [
        "**Владимир Хомутов**\n",
        "- ведущий бэкенд-разработчик на Python в Ростелеком Информационные Технологии"
      ]
    },
    {
      "cell_type": "markdown",
      "metadata": {
        "id": "PqjeRt4RmRMi"
      },
      "source": [
        "## Правила участия"
      ]
    },
    {
      "cell_type": "markdown",
      "metadata": {
        "id": "bfCZ5n0vmRMi"
      },
      "source": [
        "1. Продолжительность вебинара — 80 минут\n",
        "2. Запустите Jupyter Notebook / Google Colab / IDE для выполнения практических заданий вебинара. Во время демонстрации работы повторяйте за спикером: так вы лучше поймёте материал\n",
        "3. Вопросы и уточнения:\n",
        "  - создайте копию этого блокнота, чтобы фиксировать вопросы и важную информацию во время занятия\n",
        "  - вы можете писать вопросы в чате во время вебинара или озвучивать их в блоке «Ваши вопросы»\n",
        "4. Запись вебинара будет доступна в личном кабинете"
      ]
    },
    {
      "cell_type": "markdown",
      "metadata": {
        "id": "bsVOHtB-mRMi"
      },
      "source": [
        "## Цель занятия"
      ]
    },
    {
      "cell_type": "markdown",
      "metadata": {
        "id": "3wouHkCmmRMj"
      },
      "source": [
        "Научиться правильно обрабатывать ошибки и пользоваться механизмом исключений"
      ]
    },
    {
      "cell_type": "markdown",
      "metadata": {
        "id": "VbEv1VmfmRMj"
      },
      "source": [
        "## План занятия"
      ]
    },
    {
      "cell_type": "markdown",
      "metadata": {
        "id": "cLKVpnycmRMj"
      },
      "source": [
        "[1. Обработка ошибок](#1.-Обработка-ошибок)<br>\n",
        "[2. Исключения в цикле](#2.-Исключения-в-цикле)<br>\n",
        "[3. Вложенные исключения](#3.-Вложенные-исключения)<br>\n",
        "[4. Пользовательские исключения](#4.-Пользовательские-исключения)<br>"
      ]
    },
    {
      "cell_type": "markdown",
      "source": [
        "## Ваши вопросы"
      ],
      "metadata": {
        "id": "ZqLU8Vbduqrx"
      }
    },
    {
      "cell_type": "markdown",
      "metadata": {
        "id": "lovZksVTmRMj"
      },
      "source": [
        "## 1. Обработка ошибок\n",
        "1. Текст ошибки указывается в последней строке\n",
        "2. Всё, что перед ней, — место, где произошла ошибка\n",
        "3. Есть встроенные типы ошибок, но можно создавать и свои"
      ]
    },
    {
      "cell_type": "markdown",
      "metadata": {
        "id": "fSUkYhuomRMj"
      },
      "source": [
        "Некоторые типы ошибок из документации Python:\n",
        "\n",
        "- ZeroDivisionError — деление на ноль\n",
        "- ImportError — не удалось импортирование модуля или его атрибута (надо установить эту библиотеку)\n",
        "- IndexError — индекс не входит в диапазон элементов\n",
        "- KeyError — несуществующий ключ (в словаре, множестве или другом объекте)\n",
        "- MemoryError — недостаточно памяти\n",
        "- SyntaxError — синтаксическая ошибка (опечатка или незакрытые скобки)\n",
        "- TypeError — операция применена к объекту несоответствующего типа\n",
        "- ValueError — функция получает аргумент правильного типа, но некорректного значения\n",
        "- Warning — предупреждение (текст на красном фоне в Jupyter — это предупреждение, а не ошибка)"
      ]
    },
    {
      "cell_type": "markdown",
      "metadata": {
        "id": "NJTA5axEmRMk"
      },
      "source": [
        "Попробуем воспроизвести некоторые из них:"
      ]
    },
    {
      "cell_type": "code",
      "execution_count": null,
      "metadata": {
        "id": "Fhmd4D3YmRMk",
        "outputId": "79d6e571-650f-4de1-9fff-7c60c87a3baa"
      },
      "outputs": [
        {
          "ename": "ValueError",
          "evalue": "invalid literal for int() with base 10: '123hello'",
          "output_type": "error",
          "traceback": [
            "\u001b[1;31m---------------------------------------------------------------------------\u001b[0m",
            "\u001b[1;31mValueError\u001b[0m                                Traceback (most recent call last)",
            "Cell \u001b[1;32mIn[1], line 2\u001b[0m\n\u001b[0;32m      1\u001b[0m my_string \u001b[38;5;241m=\u001b[39m \u001b[38;5;124m'\u001b[39m\u001b[38;5;124m123hello\u001b[39m\u001b[38;5;124m'\u001b[39m\n\u001b[1;32m----> 2\u001b[0m \u001b[38;5;28;43mint\u001b[39;49m\u001b[43m(\u001b[49m\u001b[43mmy_string\u001b[49m\u001b[43m)\u001b[49m\n",
            "\u001b[1;31mValueError\u001b[0m: invalid literal for int() with base 10: '123hello'"
          ]
        }
      ],
      "source": [
        "my_string = '123hello'\n",
        "int(my_string)"
      ]
    },
    {
      "cell_type": "markdown",
      "metadata": {
        "id": "GnnBT1NMmRMl"
      },
      "source": [
        "Сразу видно, в какой строке произошла ошибка, и вполне информативно написано, что именно произошло."
      ]
    },
    {
      "cell_type": "markdown",
      "metadata": {
        "id": "l2BpHM-SmRMl"
      },
      "source": [
        "Попробуем создать другую ошибку:"
      ]
    },
    {
      "cell_type": "code",
      "execution_count": null,
      "metadata": {
        "id": "gU3IS9lSmRMl",
        "outputId": "3673104b-011b-411c-b3f7-f7486c0ce071"
      },
      "outputs": [
        {
          "ename": "TypeError",
          "evalue": "'int' object is not iterable",
          "output_type": "error",
          "traceback": [
            "\u001b[1;31m---------------------------------------------------------------------------\u001b[0m",
            "\u001b[1;31mTypeError\u001b[0m                                 Traceback (most recent call last)",
            "Cell \u001b[1;32mIn[2], line 2\u001b[0m\n\u001b[0;32m      1\u001b[0m my_number \u001b[38;5;241m=\u001b[39m \u001b[38;5;241m123\u001b[39m\n\u001b[1;32m----> 2\u001b[0m \u001b[38;5;28;01mfor\u001b[39;00m i \u001b[38;5;129;01min\u001b[39;00m my_number:\n\u001b[0;32m      3\u001b[0m     \u001b[38;5;28mprint\u001b[39m(i)\n",
            "\u001b[1;31mTypeError\u001b[0m: 'int' object is not iterable"
          ]
        }
      ],
      "source": [
        "my_number = 123\n",
        "for i in my_number:\n",
        "    print(i)"
      ]
    },
    {
      "cell_type": "markdown",
      "metadata": {
        "id": "qv7DzFgKmRMm"
      },
      "source": [
        "Из описания ошибки выше видно, что мы применили операцию к несоответствующему типу."
      ]
    },
    {
      "cell_type": "markdown",
      "metadata": {
        "id": "Tb3iqJvumRMm"
      },
      "source": [
        "Теперь возьмём предыдущие примеры и попробуем исправить ситуацию с помощью обработки ошибок:"
      ]
    },
    {
      "cell_type": "code",
      "execution_count": null,
      "metadata": {
        "id": "g2G30i-9mRMm",
        "outputId": "75787542-92cb-4d19-8c25-9622779039b9"
      },
      "outputs": [
        {
          "name": "stdout",
          "output_type": "stream",
          "text": [
            "Это не строка\n"
          ]
        }
      ],
      "source": [
        "my_string = '123hello'\n",
        "try:\n",
        "    int(my_string) # Пробуем преобразовать строку в число\n",
        "except ValueError:\n",
        "    print('Это не строка') # Если у нас не получается и возникает ошибка ValueError, то явно скажем об этом"
      ]
    },
    {
      "cell_type": "markdown",
      "metadata": {
        "id": "Ff_y2k-lmRMm"
      },
      "source": [
        "Важно знать, что все исключения наследуются от Exception, поэтому можно делать обработку не конкретной ошибкой, а общей.\n",
        "Но так не принято."
      ]
    },
    {
      "cell_type": "code",
      "execution_count": null,
      "metadata": {
        "id": "ALmXSuK1mRMm",
        "outputId": "c4c75bd6-1886-4c92-c65a-1d8e68dea4ff"
      },
      "outputs": [
        {
          "name": "stdout",
          "output_type": "stream",
          "text": [
            "Это не строка\n",
            "Это произойдет всегда, даже если исключение произойдет или не произойдет\n"
          ]
        }
      ],
      "source": [
        "my_string = '123hello'\n",
        "try:\n",
        "    int(my_string) # Пробуем преобразовать строку в число\n",
        "except Exception: # Общая ошибка\n",
        "    print('Это не строка') # Если у нас не получается и возникает ошибка ValueError, то явно скажем об этом\n",
        "finally:\n",
        "    print('Это произойдет всегда, даже если исключение произойдет или не произойдет')"
      ]
    },
    {
      "cell_type": "code",
      "execution_count": null,
      "metadata": {
        "id": "ZOm5heNLmRMm",
        "outputId": "cfe452d6-67c1-4252-f55d-eb87d4f4d23d"
      },
      "outputs": [
        {
          "name": "stdout",
          "output_type": "stream",
          "text": [
            "Это произойдет всегда, даже если исключение произойдет или не произойдет\n"
          ]
        }
      ],
      "source": [
        "my_string = '123'\n",
        "try:\n",
        "    int(my_string) # Пробуем преобразовать строку в число\n",
        "except Exception: # Общая ошибка\n",
        "    print('Это не строка') # Если у нас не получается и возникает ошибка ValueError, то явно скажем об этом\n",
        "finally:\n",
        "    print('Это произойдет всегда, даже если исключение произойдет или не произойдет')"
      ]
    },
    {
      "cell_type": "markdown",
      "metadata": {
        "id": "zXc-027ZmRMm"
      },
      "source": [
        "## Ваши вопросы"
      ]
    },
    {
      "cell_type": "markdown",
      "metadata": {
        "id": "mOxYOLdvmRMn"
      },
      "source": [
        "## 2. Исключения в цикле"
      ]
    },
    {
      "cell_type": "markdown",
      "metadata": {
        "id": "NNfI1iWzmRMn"
      },
      "source": [
        "Исключения можно использовать где угодно, в том числе в цикле."
      ]
    },
    {
      "cell_type": "code",
      "execution_count": null,
      "metadata": {
        "id": "4UiNAcI4mRMn",
        "outputId": "de0616c8-0cfe-40ac-9af1-404a3faa9950"
      },
      "outputs": [
        {
          "name": "stdout",
          "output_type": "stream",
          "text": [
            "Ошибка в данных: 240tot\n",
            "Итого 240.0\n"
          ]
        }
      ],
      "source": [
        "data = ['90', '60', '90', '240tot']\n",
        "total_sum = 0\n",
        "\n",
        "for num in data:\n",
        "    try:\n",
        "        total_sum += float(num)\n",
        "\n",
        "    except:\n",
        "        print('Ошибка в данных: {}'.format(num))\n",
        "\n",
        "print('Итого', total_sum)"
      ]
    },
    {
      "cell_type": "code",
      "execution_count": null,
      "metadata": {
        "id": "R7TiosrrmRMn",
        "outputId": "d6b59cc8-1d9b-4bf7-be9f-86520d9f50ac"
      },
      "outputs": [
        {
          "name": "stdout",
          "output_type": "stream",
          "text": [
            "None\n",
            "Проехали\n"
          ]
        },
        {
          "name": "stderr",
          "output_type": "stream",
          "text": [
            "Traceback (most recent call last):\n",
            "  File \"C:\\Users\\Gleb\\AppData\\Local\\Temp\\ipykernel_25380\\3210361273.py\", line 6, in <module>\n",
            "    float('123fff')\n",
            "ValueError: could not convert string to float: '123fff'\n"
          ]
        }
      ],
      "source": [
        "# Сохранить информацию об ошибке\n",
        "# Полная версия traceback\n",
        "import traceback\n",
        "\n",
        "try:\n",
        "    float('123fff')\n",
        "\n",
        "except Exception:\n",
        "    print(traceback.print_exc())\n",
        "\n",
        "print('Проехали')"
      ]
    },
    {
      "cell_type": "markdown",
      "metadata": {
        "id": "EFfNvTS-mRMn"
      },
      "source": [
        "## 3. Вложенные исключения"
      ]
    },
    {
      "cell_type": "code",
      "execution_count": null,
      "metadata": {
        "id": "_mRf6IFOmRMn",
        "outputId": "e2691c9e-195b-4a17-8025-1a398fdd9838"
      },
      "outputs": [
        {
          "name": "stdout",
          "output_type": "stream",
          "text": [
            "Общая ошибка\n",
            "Hello\n"
          ]
        }
      ],
      "source": [
        "try:\n",
        "    # Код, который может вызвать исключение\n",
        "    var_1 = 9\n",
        "    var_2 = \"d\"\n",
        "    try:\n",
        "        # Код, который может вызвать вложенное исключение\n",
        "        var_2 / var_1\n",
        "        pass\n",
        "    except ValueError:\n",
        "        # Обработка вложенного исключения\n",
        "        pass\n",
        "    except Exception:\n",
        "        # Обработка вложенного исключения\n",
        "        print(\"Общая ошибка\")\n",
        "        pass\n",
        "    print(\"Hello\")\n",
        "    # Код, который может вызвать другое исключение\n",
        "    pass\n",
        "except ZeroDivisionError:\n",
        "    # Обработка исключения\n",
        "    pass"
      ]
    },
    {
      "cell_type": "code",
      "execution_count": null,
      "metadata": {
        "id": "QJRRSaN6mRMo",
        "outputId": "fc65f60f-b7ab-4622-d9b4-d19e5623e0b0"
      },
      "outputs": [
        {
          "name": "stdout",
          "output_type": "stream",
          "text": [
            "Деление на ноль\n",
            "Повторное деление на ноль\n"
          ]
        }
      ],
      "source": [
        "try:\n",
        "    1/0\n",
        "    # Код, который может вызвать исключение\n",
        "    pass\n",
        "except ZeroDivisionError:\n",
        "    # Обработка исключения\n",
        "    print(\"Деление на ноль\")\n",
        "    try:\n",
        "        1/0\n",
        "        # Код, который может вызвать вложенное исключение\n",
        "\n",
        "        pass\n",
        "    except ZeroDivisionError:\n",
        "        print(\"Повторное деление на ноль\")\n",
        "        # Обработка вложенного исключения\n",
        "        pass\n",
        "    pass"
      ]
    },
    {
      "cell_type": "markdown",
      "metadata": {
        "id": "_9_YapKpmRMo"
      },
      "source": [
        "## Ваши вопросы"
      ]
    },
    {
      "cell_type": "markdown",
      "metadata": {
        "id": "aE3oe7p7mRMo"
      },
      "source": [
        "## 4. Пользовательские исключения"
      ]
    },
    {
      "cell_type": "code",
      "execution_count": null,
      "metadata": {
        "id": "f3oO9hI3mRMp",
        "outputId": "748fd8a6-cc43-448f-92c9-b5e3b782e687"
      },
      "outputs": [
        {
          "ename": "CustomError",
          "evalue": "Здесь будет текст ошибки",
          "output_type": "error",
          "traceback": [
            "\u001b[1;31m---------------------------------------------------------------------------\u001b[0m",
            "\u001b[1;31mCustomError\u001b[0m                               Traceback (most recent call last)",
            "Cell \u001b[1;32mIn[10], line 5\u001b[0m\n\u001b[0;32m      1\u001b[0m \u001b[38;5;28;01mclass\u001b[39;00m \u001b[38;5;21;01mCustomError\u001b[39;00m(\u001b[38;5;167;01mException\u001b[39;00m):\n\u001b[0;32m      2\u001b[0m     \u001b[38;5;28;01mpass\u001b[39;00m\n\u001b[1;32m----> 5\u001b[0m \u001b[38;5;28;01mraise\u001b[39;00m CustomError(\u001b[38;5;124m\"\u001b[39m\u001b[38;5;124mЗдесь будет текст ошибки\u001b[39m\u001b[38;5;124m\"\u001b[39m)\n",
            "\u001b[1;31mCustomError\u001b[0m: Здесь будет текст ошибки"
          ]
        }
      ],
      "source": [
        "class CustomError(Exception):\n",
        "    pass\n",
        "\n",
        "\n",
        "raise CustomError(\"Здесь будет текст ошибки\")"
      ]
    },
    {
      "cell_type": "code",
      "execution_count": null,
      "metadata": {
        "id": "WpbiHLSJmRMp",
        "outputId": "efad1e51-cfbc-4886-be1d-a687a7739515"
      },
      "outputs": [
        {
          "ename": "ImportError",
          "evalue": "Здесь будет текст ошибки",
          "output_type": "error",
          "traceback": [
            "\u001b[1;31m---------------------------------------------------------------------------\u001b[0m",
            "\u001b[1;31mImportError\u001b[0m                               Traceback (most recent call last)",
            "Cell \u001b[1;32mIn[11], line 1\u001b[0m\n\u001b[1;32m----> 1\u001b[0m \u001b[38;5;28;01mraise\u001b[39;00m \u001b[38;5;167;01mImportError\u001b[39;00m(\u001b[38;5;124m\"\u001b[39m\u001b[38;5;124mЗдесь будет текст ошибки\u001b[39m\u001b[38;5;124m\"\u001b[39m)\n",
            "\u001b[1;31mImportError\u001b[0m: Здесь будет текст ошибки"
          ]
        }
      ],
      "source": [
        "raise ImportError(\"Здесь будет текст ошибки\")"
      ]
    },
    {
      "cell_type": "code",
      "execution_count": null,
      "metadata": {
        "id": "GrwTO--gmRMp",
        "outputId": "43614821-5ba1-40e7-d40d-03b27f98ec6d"
      },
      "outputs": [
        {
          "name": "stdout",
          "output_type": "stream",
          "text": [
            "Результат: 1.0\n"
          ]
        }
      ],
      "source": [
        "class CustomError(Exception):\n",
        "    pass\n",
        "\n",
        "def divide_numbers(x, y):\n",
        "    if y == 0:\n",
        "        raise CustomError(\"Деление на ноль невозможно\")\n",
        "    else:\n",
        "        return x / y\n",
        "try:\n",
        "    result = divide_numbers(10, 10)\n",
        "except CustomError as e:\n",
        "    print(e)\n",
        "else:\n",
        "    print(f\"Результат: {result}\")"
      ]
    },
    {
      "cell_type": "code",
      "execution_count": null,
      "metadata": {
        "id": "F0L_u13kmRMp",
        "outputId": "21485902-676f-415c-8c61-6767323fa504"
      },
      "outputs": [
        {
          "name": "stdout",
          "output_type": "stream",
          "text": [
            "Значение корректное\n"
          ]
        }
      ],
      "source": [
        "class ValueTooSmallError(Exception):\n",
        "    pass\n",
        "class ValueTooLargeError(Exception):\n",
        "    pass\n",
        "def test_value(x):\n",
        "    if x < 0:\n",
        "        raise ValueTooSmallError(\"Значение слишком маленькое\")\n",
        "    elif x > 100:\n",
        "        raise ValueTooLargeError(\"Значение слишком большое\")\n",
        "    else:\n",
        "        print(\"Значение корректное\")\n",
        "\n",
        "try: test_value(23)\n",
        "except ValueTooSmallError as e: print(e)\n",
        "except ValueTooLargeError as e: print(e)"
      ]
    },
    {
      "cell_type": "code",
      "execution_count": null,
      "metadata": {
        "id": "H0dcY1a0mRMp"
      },
      "outputs": [],
      "source": [
        "try:\n",
        "    # Открытие файла в режиме чтения\n",
        "    file = open(\"file.txt\", \"r\")\n",
        "    print(\"Successful opened the file\")\n",
        "except FileNotFoundError:\n",
        "    # Обработка ошибки, возникающей в том случае, если файл не найден\n",
        "    print(\"File Not Found Error: No such file or directory\")\n",
        "    exit()\n",
        "except PermissionError:\n",
        "    # Обработка ошибок, связанных с разрешением на доступ к файлу\n",
        "    print(\"Permission Denied Error: Access is denied\")\n",
        "else:\n",
        "    # Всё хорошо - сделать что-то с данными, прочитанными из файла\n",
        "    content = file.read().decode('utf-8')\n",
        "    processed_data = process_content(content) # type: ignore\n",
        "\n",
        "# Прибираемся после себя, даже если выше возникло исключение\n",
        "finally:\n",
        "    file.close()"
      ]
    },
    {
      "cell_type": "markdown",
      "metadata": {
        "id": "4AauEzZqmRMp"
      },
      "source": [
        "## Ваши вопросы"
      ]
    },
    {
      "cell_type": "markdown",
      "metadata": {
        "id": "Cmhfz60HmRMq"
      },
      "source": [
        "## Итоги занятия"
      ]
    },
    {
      "cell_type": "markdown",
      "metadata": {
        "id": "RaSbRhgemRMq"
      },
      "source": [
        "Научились правильно обрабатывать ошибки. Познакомились с обработкой исключений и созданием собственных исключений.\n",
        "Теперь наш код станет намного надёжнее!"
      ]
    },
    {
      "cell_type": "markdown",
      "metadata": {
        "id": "SVpPK9FEmRMq"
      },
      "source": [
        "## Задачи для самостоятельного решения"
      ]
    },
    {
      "cell_type": "markdown",
      "metadata": {
        "id": "8wqNG7nEmRMr"
      },
      "source": [
        "1. Напишите программу на Python, которая предлагает пользователю ввести целое число и вызывает исключение ValueError, если введённое число не является допустимым"
      ]
    },
    {
      "cell_type": "markdown",
      "metadata": {
        "id": "fIgukYdTmRMr"
      },
      "source": [
        "2. Напишите программу на Python, которая предлагает пользователю ввести два числа и выдаёт исключение TypeError, если введённые данные не являются числовыми"
      ]
    },
    {
      "cell_type": "markdown",
      "metadata": {
        "id": "I5pWmRJ7mRMr"
      },
      "source": [
        "3. Напишите программу, которая предлагает пользователю ввести имя. Если это имя — Иван, должно вызываться кастомное исключение IvanException с произвольным телом ошибки"
      ]
    },
    {
      "cell_type": "markdown",
      "source": [
        "## Анонс следующего занятия"
      ],
      "metadata": {
        "id": "hh5A9SySwu3r"
      }
    },
    {
      "cell_type": "markdown",
      "source": [
        "Вебинар по теме 4 «Файлы и структуры данных (JSON, XML, YAML и т. д.)»"
      ],
      "metadata": {
        "id": "qLmIr_USwxmD"
      }
    },
    {
      "cell_type": "markdown",
      "source": [
        "## Ваши вопросы"
      ],
      "metadata": {
        "id": "puwM8Cpnw33r"
      }
    }
  ],
  "metadata": {
    "kernelspec": {
      "display_name": "Python 3",
      "language": "python",
      "name": "python3"
    },
    "language_info": {
      "codemirror_mode": {
        "name": "ipython",
        "version": 3
      },
      "file_extension": ".py",
      "mimetype": "text/x-python",
      "name": "python",
      "nbconvert_exporter": "python",
      "pygments_lexer": "ipython3",
      "version": "3.10.11"
    },
    "colab": {
      "provenance": []
    }
  },
  "nbformat": 4,
  "nbformat_minor": 0
}